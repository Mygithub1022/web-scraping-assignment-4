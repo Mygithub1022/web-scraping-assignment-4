{
 "cells": [
  {
   "cell_type": "markdown",
   "metadata": {},
   "source": [
    "3. Scrape the details of selenium exception from guru99.com.\n",
    "Url = https://www.guru99.com/\n",
    "You need to find following details:\n",
    "A) Name\n",
    "B) Description\n",
    "Note: - From guru99 home page you have to reach to selenium exception handling page through code."
   ]
  },
  {
   "cell_type": "code",
   "execution_count": 1,
   "metadata": {},
   "outputs": [],
   "source": [
    "from bs4 import BeautifulSoup as bs\n",
    "import requests\n",
    "\n",
    "url = 'https://www.guru99.com/exception-handling-selenium.html'"
   ]
  },
  {
   "cell_type": "code",
   "execution_count": 2,
   "metadata": {},
   "outputs": [],
   "source": [
    "dump = requests.get(url)\n",
    "soup = bs(dump.content,'html')\n",
    "\n",
    "def heading():\n",
    "  head = soup.find_all('h2')\n",
    "  print(head[1].text)\n",
    "\n",
    "def contentlist():\n",
    "  #find the section where data lies\n",
    "  col = soup.find('table',{'class':'table table-striped'})\n",
    "  insidecol = col.find_all('tr')\n",
    "\n",
    "  for i in range(len(insidecol)):\n",
    "  \n",
    "    print(insidecol[i].text.replace(' ','  -->  ',1))"
   ]
  },
  {
   "cell_type": "code",
   "execution_count": 3,
   "metadata": {},
   "outputs": [
    {
     "name": "stdout",
     "output_type": "stream",
     "text": [
      "Common Exceptions in Selenium Web driver\n",
      "\n",
      "\n",
      "Exception  -->  name Description  \n",
      "ElementNotVisibleException  -->  This type of Selenium exception occurs when an existing element in DOM has a feature set as hidden. \n",
      "ElementNotSelectableException  -->  This Selenium exception occurs when an element is presented in the DOM, but you can be able to select. Therefore, it is not possible to interact. \n",
      "NoSuchElementException  -->  This Exception occurs if an element could not be found. \n",
      "NoSuchFrameException  -->  This Exception occurs if the frame target to be switched to does not exist. \n",
      "NoAlertPresentException  -->  This Exception occurs when you switch to no presented alert. \n",
      "NoSuchWindowException  -->  This Exception occurs if the window target to be switch does not exist. \n",
      "StaleElementReferenceException  -->  This Selenium exception occurs happens when the web element is detached from the current DOM. \n",
      "SessionNotFoundException  -->  The WebDriver is acting after you quit the browser. \n",
      "TimeoutException  -->  Thrown when there is not enough time for a command to be completed. For Example, the element searched wasn't found in the specified time. \n",
      "WebDriverException  -->  This Exception takes place when the WebDriver is acting right after you close the browser. \n",
      "ConnectionClosedException  -->  This type of Exception takes place when there is a disconnection in the driver. \n",
      "ElementClickInterceptedException  -->  The command may not be completed as the element receiving the events is concealing the element which was requested clicked. \n",
      "ElementNotInteractableException  -->  This Selenium exception is thrown when any element is presented in the DOM. However, it is impossible to interact with such an element. \n",
      "ErrorInResponseException  -->  This happens while interacting with the Firefox extension or the remote driver server. \n",
      "ErrorHandler.UnknownServerException  -->  Exception is used as a placeholder in case if the server returns an error without a stack trace. \n",
      "ImeActivationFailedException  -->  This expectation will occur when IME engine activation has failed. \n",
      "ImeNotAvailableException  -->  It takes place when IME support is unavailable. \n",
      "InsecureCertificateException  -->  Navigation made the user agent to hit a certificate warning. This can cause by an invalid or expired TLS certificate. \n",
      "InvalidArgumentException  -->  It occurs when an argument does not belong to the expected type. \n",
      "InvalidCookieDomainException  -->  This happens when you try to add a cookie under a different domain instead of current URL. \n",
      "InvalidCoordinatesException  -->  This type of Exception matches an interacting operation that is not valid. \n",
      "InvalidElementStateExceptio  -->  It occurs when command can't be finished when the element is invalid. \n",
      "InvalidSessionIdException  -->  This Exception took place when the given session ID is not included in the list of active sessions. It means the session does not exist or is inactive either. \n",
      "InvalidSwitchToTargetException  -->  This occurs when the frame or window target to be switched does not exist. \n",
      "JavascriptException  -->  This issue occurs while executing JavaScript given by the user. \n",
      "JsonException  -->  It occurs when you afford to get the session when the session is not created. \n",
      "NoSuchAttributeException  -->  This kind of Exception occurs when the attribute of an element could not be found. \n",
      "MoveTargetOutOfBoundsException  -->  It takes place if the target provided to the ActionChains move() methodology is not valid. For Example, out of the document. \n",
      "NoSuchContextException  -->  ContextAware does mobile device testing. \n",
      "NoSuchCookieException  -->  This Exception occurs when no cookie matching with the given pathname found for all the associated cookies of the currently browsing document. \n",
      "NotFoundException  -->  This Exception is a subclass of WebDriverException. This will occur when an element on the DOM does not exist. \n",
      "RemoteDriverServerException  -->  This Selenium exception is thrown when the server is not responding because of the problem that the capabilities described are not proper. \n",
      "ScreenshotException  -->  It is not possible to capture a screen. \n",
      "SessionNotCreatedException  -->  It happens when a new session could not be successfully created. \n",
      "UnableToSetCookieException  -->  This occurs if a driver is unable to set a cookie. \n",
      "UnexpectedTagNameException  -->  Happens if a support class did not get a web element as expected. \n",
      "UnhandledAlertException  -->  This expectation occurs when there is an alert, but WebDriver is not able to perform Alert operation. \n",
      "UnexpectedAlertPresentException  -->  It occurs when there is the appearance of an unexpected alert. \n",
      "UnknownMethodException  -->  This Exception happens when the requested command matches with a known URL but and not matching with a methodology for a specific URL. \n",
      "UnreachableBrowserException  -->  This Exception occurs only when the browser is not able to be opened or crashed because of some reason. \n",
      "UnsupportedCommandException  -->  This occurs when remote WebDriver does n't send valid commands as expected. \n"
     ]
    }
   ],
   "source": [
    "if __name__=='__main__':\n",
    "  if dump.status_code == 200:\n",
    "    heading()\n",
    "    print('\\n')\n",
    "    contentlist()"
   ]
  },
  {
   "cell_type": "markdown",
   "metadata": {},
   "source": [
    "4. Scrape the details of State-wise GDP of India from statisticstime.com.\n",
    "Url = http://statisticstimes.com/\n",
    "You have to find following details:\n",
    "A) Rank\n",
    "B) State\n",
    "C) GSDP at current price (19-20)\n",
    "D) GSDP at current price (18-19)\n",
    "E) Share(18-19)\n",
    "F) GDP($ billion)\n",
    "Note: - From statisticstimes home page you have to reach to economy page through code."
   ]
  },
  {
   "cell_type": "code",
   "execution_count": 4,
   "metadata": {},
   "outputs": [],
   "source": [
    "from bs4 import BeautifulSoup as bs\n",
    "import requests\n",
    "\n",
    "url = 'http://statisticstimes.com/economy/india/indian-states-gdp.php'\n",
    "\n",
    "dump = requests.get(url)\n",
    "soup = bs(dump.content,'html.parser')"
   ]
  },
  {
   "cell_type": "code",
   "execution_count": 5,
   "metadata": {},
   "outputs": [
    {
     "name": "stdout",
     "output_type": "stream",
     "text": [
      "Rank,   State,   GSDP (Cr INR at Current prices) 19-20 ,   GSDP (Cr INR at Current prices) 18-19,  Share,  GDP ($billion)\n",
      "1,   Maharashtra,   -,   2,632,792,   13.94%,   399.921\n",
      "2,   Tamil Nadu,   1,845,853,   1,630,208,   8.63%,   247.629\n",
      "3,   Uttar Pradesh,   1,687,818,   1,584,764,   8.39%,   240.726\n",
      "4,   Gujarat,   -,   1,502,899,   7.96%,   228.290\n",
      "5,   Karnataka,   1,631,977,   1,493,127,   7.91%,   226.806\n",
      "6,   West Bengal,   1,253,832,   1,089,898,   5.77%,   165.556\n",
      "7,   Rajasthan,   1,020,989,   942,586,   4.99%,   143.179\n",
      "8,   Andhra Pradesh,   972,782,   862,957,   4.57%,   131.083\n",
      "9,   elangana,   969,604,   861,031,   4.56%,   130.791\n",
      "10,   Madhya Pradesh,   906,672,   809,592,   4.29%,   122.977\n",
      "11,   Kerala,   -,   781,653,   4.14%,   118.733\n",
      "12,   Delhi,   856,112,   774,870,   4.10%,   117.703\n",
      "13,   Haryana,   831,610,   734,163,   3.89%,   111.519\n",
      "14,   Bihar,   611,804,   530,363,   2.81%,   80.562\n",
      "15,   Punjab,   574,760,   526,376,   2.79%,   79.957\n",
      "16,   Odisha,   521,275,   487,805,   2.58%,   74.098\n",
      "17,   Assam,   -,   315,881,   1.67%,   47.982\n",
      "18,   Chhattisgarh,   329,180,   304,063,   1.61%,   46.187\n",
      "19,   Jharkhand,   328,598,   297,204,   1.57%,   45.145\n",
      "20,   Uttarakhand,   -,   245,895,   1.30%,   37.351\n",
      "21,   Jammu & Kashmir,   -,   155,956,   0.83%,   23.690\n",
      "22,   Himachal Pradesh,   165,472,   153,845,   0.81%,   23.369\n",
      "23,   Goa,   80,449,   73,170,   0.39%,   11.115\n",
      "24,   Tripura,   55,984,   49,845,   0.26%,   7.571\n",
      "25,   Chandigarh,   -,   42,114,   0.22%,   6.397\n",
      "26,   Puducherry,   38,253,   34,433,   0.18%,   5.230\n",
      "27,   Meghalaya,   36,572,   33,481,   0.18%,   5.086\n",
      "28,   Sikkim,   32,496,   28,723,   0.15%,   4.363\n",
      "29,   Manipur,   31,790,   27,870,   0.15%,   4.233\n",
      "30,   Nagaland,   -,   27,283,   0.14%,   4.144\n",
      "31,   Arunachal Pradesh,   -,   24,603,   0.13%,   3.737\n",
      "32,   Mizoram,   26,503,   22,287,   0.12%,   3.385\n",
      "33,   Andaman & Nicobar Islands,   ---,   ---,   ---,   ---\n",
      "  ,   India,   20,351,013,   18,886,957,   2,869,   14,569,268\n",
      "['India', '20,351,013', '18,886,957', '2,869', '14,569,268', '14,003,316', '']\n"
     ]
    },
    {
     "data": {
      "text/plain": [
       "7"
      ]
     },
     "execution_count": 5,
     "metadata": {},
     "output_type": "execute_result"
    }
   ],
   "source": [
    "tbodies = soup.find(lambda tag: tag.name=='table' and tag.has_attr('id') and tag['id']==\"table_id\")\n",
    "\n",
    "rows = tbodies.findAll(lambda tag: tag.name=='tr')\n",
    "\n",
    "for i in range(37):\n",
    "  try:\n",
    "    val = rows[i].text.split('\\n')\n",
    "    if i == 0 :\n",
    "      print(f'{val[0]},   {val[1]},   {val[2]} 19-20 ,   {val[2]} 18-19,  {val[3][0:5]},  {val[3][5:]}')\n",
    "      \n",
    "    elif i == 1:\n",
    "      continue\n",
    "    elif i <10 :\n",
    "      print(f'{i-1},   {val[0][1:]},   {val[1]},   {val[2]},   {val[3]},   {val[4]}')\n",
    "\n",
    "    elif i <=33 :\n",
    "        print(f'{i-1},   {val[0][2:]},   {val[1]},   {val[2]},   {val[3]},   {val[4]}')\n",
    "\n",
    "    elif i == 34:\n",
    "      print(f'{i-1},   {val[0][2:]},   {val[1]},   {val[2]},   {val[2]},   {val[2]}')\n",
    "\n",
    "    elif i == 35:\n",
    "      print(f'  ,   {val[0]},   {val[1]},   {val[2]},   {val[3]},   {val[4]}')\n",
    "  except Exception as e:\n",
    "    pass\n",
    "  \n",
    "val = rows[35].text.split('\\n')\n",
    "print(val)\n",
    "val[2]\n",
    "len(val)\n",
    "\n",
    "\n",
    "\n",
    "\n",
    "\n",
    "# if __name__=='__main__':\n",
    "#   if dump.status_code == 200:\n",
    "    "
   ]
  },
  {
   "cell_type": "markdown",
   "metadata": {},
   "source": [
    "1. Scrape the details of most viewed videos on YouTube from Wikipedia:\n",
    "Url = https://en.wikipedia.org/wiki/List_of_most-viewed_YouTube_videos/\n",
    "You need to find following details:\n",
    "A) Rank\n",
    "B) Name\n",
    "C) Artist\n",
    "D) Upload date\n",
    "E) Views"
   ]
  },
  {
   "cell_type": "code",
   "execution_count": 6,
   "metadata": {},
   "outputs": [],
   "source": [
    "from bs4 import BeautifulSoup as bs\n",
    "import requests\n",
    "\n",
    "url = 'https://en.wikipedia.org/wiki/List_of_most-viewed_YouTube_videos/exception-handling-selenium.html'"
   ]
  },
  {
   "cell_type": "code",
   "execution_count": 7,
   "metadata": {},
   "outputs": [],
   "source": [
    "dump = requests.get(url)\n",
    "soup = bs(dump.content,'html.parser')"
   ]
  },
  {
   "cell_type": "code",
   "execution_count": 8,
   "metadata": {},
   "outputs": [
    {
     "ename": "AttributeError",
     "evalue": "'NoneType' object has no attribute 'findAll'",
     "output_type": "error",
     "traceback": [
      "\u001b[1;31m---------------------------------------------------------------------------\u001b[0m",
      "\u001b[1;31mAttributeError\u001b[0m                            Traceback (most recent call last)",
      "\u001b[1;32m<ipython-input-8-ef6d7f081005>\u001b[0m in \u001b[0;36m<module>\u001b[1;34m\u001b[0m\n\u001b[0;32m      1\u001b[0m \u001b[0mtbodies\u001b[0m \u001b[1;33m=\u001b[0m \u001b[0msoup\u001b[0m\u001b[1;33m.\u001b[0m\u001b[0mfind\u001b[0m\u001b[1;33m(\u001b[0m\u001b[1;32mlambda\u001b[0m \u001b[0mtag\u001b[0m\u001b[1;33m:\u001b[0m \u001b[0mtag\u001b[0m\u001b[1;33m.\u001b[0m\u001b[0mname\u001b[0m\u001b[1;33m==\u001b[0m\u001b[1;34m'table'\u001b[0m \u001b[1;32mand\u001b[0m \u001b[0mtag\u001b[0m\u001b[1;33m.\u001b[0m\u001b[0mhas_attr\u001b[0m\u001b[1;33m(\u001b[0m\u001b[1;34m'id'\u001b[0m\u001b[1;33m)\u001b[0m \u001b[1;32mand\u001b[0m \u001b[0mtag\u001b[0m\u001b[1;33m[\u001b[0m\u001b[1;34m'id'\u001b[0m\u001b[1;33m]\u001b[0m\u001b[1;33m==\u001b[0m\u001b[1;34m\"table_id\"\u001b[0m\u001b[1;33m)\u001b[0m\u001b[1;33m\u001b[0m\u001b[1;33m\u001b[0m\u001b[0m\n\u001b[0;32m      2\u001b[0m \u001b[1;33m\u001b[0m\u001b[0m\n\u001b[1;32m----> 3\u001b[1;33m \u001b[0mrows\u001b[0m \u001b[1;33m=\u001b[0m \u001b[0mtbodies\u001b[0m\u001b[1;33m.\u001b[0m\u001b[0mfindAll\u001b[0m\u001b[1;33m(\u001b[0m\u001b[1;32mlambda\u001b[0m \u001b[0mtag\u001b[0m\u001b[1;33m:\u001b[0m \u001b[0mtag\u001b[0m\u001b[1;33m.\u001b[0m\u001b[0mname\u001b[0m\u001b[1;33m==\u001b[0m\u001b[1;34m'tr'\u001b[0m\u001b[1;33m)\u001b[0m\u001b[1;33m\u001b[0m\u001b[1;33m\u001b[0m\u001b[0m\n\u001b[0m\u001b[0;32m      4\u001b[0m \u001b[1;33m\u001b[0m\u001b[0m\n\u001b[0;32m      5\u001b[0m \u001b[1;32mfor\u001b[0m \u001b[0mi\u001b[0m \u001b[1;32min\u001b[0m \u001b[0mrange\u001b[0m\u001b[1;33m(\u001b[0m\u001b[1;36m37\u001b[0m\u001b[1;33m)\u001b[0m\u001b[1;33m:\u001b[0m\u001b[1;33m\u001b[0m\u001b[1;33m\u001b[0m\u001b[0m\n",
      "\u001b[1;31mAttributeError\u001b[0m: 'NoneType' object has no attribute 'findAll'"
     ]
    }
   ],
   "source": [
    "tbodies = soup.find(lambda tag: tag.name=='table' and tag.has_attr('id') and tag['id']==\"table_id\")\n",
    "\n",
    "rows = tbodies.findAll(lambda tag: tag.name=='tr')\n",
    "\n",
    "for i in range(37):\n",
    "  try:\n",
    "    val = rows[i].text.split('\\n')\n",
    "    if i == 0 :\n",
    "      print(f'{val[0]},   {val[1]},   {val[2]} 19-20 ,   {val[2]} 18-19,  {val[3][0:5]},  {val[3][5:]}')\n",
    "      \n",
    "    elif i == 1:\n",
    "      continue\n",
    "    elif i <10 :\n",
    "      print(f'{i-1},   {val[0][1:]},   {val[1]},   {val[2]},   {val[3]},   {val[4]}')\n",
    "\n",
    "    elif i <=33 :\n",
    "        print(f'{i-1},   {val[0][2:]},   {val[1]},   {val[2]},   {val[3]},   {val[4]}')\n",
    "\n",
    "    elif i == 34:\n",
    "      print(f'{i-1},   {val[0][2:]},   {val[1]},   {val[2]},   {val[2]},   {val[2]}')\n",
    "\n",
    "    elif i == 35:\n",
    "      print(f'  ,   {val[0]},   {val[1]},   {val[2]},   {val[3]},   {val[4]}')\n",
    "  except Exception as e:\n",
    "    pass\n",
    "  \n",
    "val = rows[35].text.split('\\n')\n",
    "print(val)\n",
    "val[2]\n",
    "len(val\n",
    "\n",
    "\n",
    "\n",
    "# if __name__=='__main__':\n",
    "#   if dump.status_code == 200:"
   ]
  },
  {
   "cell_type": "markdown",
   "metadata": {},
   "source": [
    "2. Scrape the details team India’s international fixtures from bcci.tv.\n",
    "Url = https://www.bcci.tv/.\n",
    "You need to find following details:\n",
    "A) Match title (I.e. 1st ODI)\n",
    "B) Series\n",
    "C) Place\n",
    "D) Date\n",
    "E) Time\n",
    "Note: - From bcci.tv home page you have reach to the international fixture page through code."
   ]
  },
  {
   "cell_type": "code",
   "execution_count": 9,
   "metadata": {},
   "outputs": [],
   "source": [
    "from bs4 import BeautifulSoup as bs\n",
    "import requests\n",
    "\n",
    "url = 'https://www.bcci.tv/.exception-handling-selenium.html'"
   ]
  },
  {
   "cell_type": "code",
   "execution_count": 10,
   "metadata": {},
   "outputs": [],
   "source": [
    "dump = requests.get(url)\n",
    "soup = bs(dump.content,'html')\n",
    "\n",
    "def heading():\n",
    "  head = soup.find_all('h2')\n",
    "  print(head[1].text)\n",
    "\n",
    "def contentlist():\n",
    "  #find the section where data lies\n",
    "  col = soup.find('table',{'class':'table table-striped'})\n",
    "  insidecol = col.find_all('tr')\n",
    "\n",
    "  for i in range(len(insidecol)):\n",
    "  \n",
    "    print(insidecol[i].text.replace(' ','  -->  ',1))"
   ]
  },
  {
   "cell_type": "code",
   "execution_count": 11,
   "metadata": {},
   "outputs": [],
   "source": [
    "if __name__=='__main__':\n",
    "  if dump.status_code == 200:\n",
    "    heading()\n",
    "    print('\\n')\n",
    "    contentlist()"
   ]
  },
  {
   "cell_type": "markdown",
   "metadata": {},
   "source": [
    "5. Scrape the details of trending repositories on Github.com.\n",
    "Url = https://github.com/\n",
    "You have to find the following details:\n",
    "A) Repository title\n",
    "B) Repository description\n",
    "C) Contributors count\n",
    "D) Language used\n",
    "Note: - From the home page you have to click on the trending option from Explore menu through code.\n"
   ]
  },
  {
   "cell_type": "code",
   "execution_count": 13,
   "metadata": {},
   "outputs": [],
   "source": [
    "from bs4 import BeautifulSoup as bs\n",
    "import requests\n",
    "\n",
    "url = 'https://github.com//.exception-handling-selenium.html'"
   ]
  },
  {
   "cell_type": "code",
   "execution_count": 14,
   "metadata": {},
   "outputs": [],
   "source": [
    "dump = requests.get(url)\n",
    "soup = bs(dump.content,'html')\n",
    "\n",
    "def heading():\n",
    "  head = soup.find_all('h2')\n",
    "  print(head[1].text)"
   ]
  },
  {
   "cell_type": "code",
   "execution_count": 18,
   "metadata": {},
   "outputs": [],
   "source": [
    "def contentlist():\n",
    "  #find the section where data lies\n",
    "  col = soup.find('table',{'class':'table table-striped'})\n",
    "  insidecol = col.find_all('tr')\n",
    "\n",
    "  for i in range(len(insidecol)):\n",
    "  \n",
    "    print(insidecol[i].text.replace(' ','  -->  ',1))"
   ]
  },
  {
   "cell_type": "code",
   "execution_count": 19,
   "metadata": {},
   "outputs": [
    {
     "ename": "SyntaxError",
     "evalue": "invalid syntax (<ipython-input-19-3e3c56dd1da4>, line 1)",
     "output_type": "error",
     "traceback": [
      "\u001b[1;36m  File \u001b[1;32m\"<ipython-input-19-3e3c56dd1da4>\"\u001b[1;36m, line \u001b[1;32m1\u001b[0m\n\u001b[1;33m    def.head()\u001b[0m\n\u001b[1;37m       ^\u001b[0m\n\u001b[1;31mSyntaxError\u001b[0m\u001b[1;31m:\u001b[0m invalid syntax\n"
     ]
    }
   ],
   "source": [
    "def.head()"
   ]
  },
  {
   "cell_type": "markdown",
   "metadata": {},
   "source": [
    "7. Scrape the details of Data science recruiters from naukri.com.\n",
    "Url = https://www.naukri.com/\n",
    "You have to find the following details:\n",
    "A) Name\n",
    "B) Designation\n",
    "C) Company\n",
    "D) Skills they hire for\n",
    "E) Location\n",
    "Note: - From naukri.com homepage click on the recruiters option and the on the search pane type Data science and \n",
    "click on search. All this should be done through code"
   ]
  },
  {
   "cell_type": "code",
   "execution_count": 20,
   "metadata": {},
   "outputs": [],
   "source": [
    "from bs4 import BeautifulSoup as bs\n",
    "import requests\n",
    "\n",
    "url = 'https://www.naukri.com/exception-handling-selenium.html'"
   ]
  },
  {
   "cell_type": "code",
   "execution_count": 21,
   "metadata": {},
   "outputs": [],
   "source": [
    "dump = requests.get(url)\n",
    "soup = bs(dump.content,'html')\n",
    "\n",
    "def heading():\n",
    "  head = soup.find_all('h2')\n",
    "  print(head[1].text)"
   ]
  },
  {
   "cell_type": "code",
   "execution_count": 23,
   "metadata": {},
   "outputs": [
    {
     "ename": "NameError",
     "evalue": "name 'driver' is not defined",
     "output_type": "error",
     "traceback": [
      "\u001b[1;31m---------------------------------------------------------------------------\u001b[0m",
      "\u001b[1;31mNameError\u001b[0m                                 Traceback (most recent call last)",
      "\u001b[1;32m<ipython-input-23-87c425a717a3>\u001b[0m in \u001b[0;36m<module>\u001b[1;34m\u001b[0m\n\u001b[1;32m----> 1\u001b[1;33m \u001b[0mdriver\u001b[0m\u001b[1;33m.\u001b[0m\u001b[0mget\u001b[0m\u001b[1;33m(\u001b[0m\u001b[1;34m'https://www.naukri.com/exception-handling-selenium.html'\u001b[0m\u001b[1;33m)\u001b[0m\u001b[1;33m\u001b[0m\u001b[1;33m\u001b[0m\u001b[0m\n\u001b[0m",
      "\u001b[1;31mNameError\u001b[0m: name 'driver' is not defined"
     ]
    }
   ],
   "source": [
    "driver.get('https://www.naukri.com/exception-handling-selenium.html')"
   ]
  },
  {
   "cell_type": "code",
   "execution_count": null,
   "metadata": {},
   "outputs": [],
   "source": [
    "for in range(5):\n",
    "    driver.find_element_by_tag_name('body').send_keys)keys.END\n",
    "    time.sleep(3)"
   ]
  },
  {
   "cell_type": "code",
   "execution_count": null,
   "metadata": {},
   "outputs": [],
   "source": [
    "driver.get(url):"
   ]
  },
  {
   "cell_type": "code",
   "execution_count": null,
   "metadata": {},
   "outputs": [],
   "source": [
    "for in range(5):\n",
    "    driver.find_element_by_tag_name('body').send_keys)keys.END\n",
    "    time.sleep(2)"
   ]
  },
  {
   "cell_type": "code",
   "execution_count": null,
   "metadata": {},
   "outputs": [],
   "source": [
    "\"execution_count\": 45,\n",
    "\"metadata\": {},\n",
    "\"output_type\": \n",
    "\"execute_result\""
   ]
  },
  {
   "cell_type": "code",
   "execution_count": 24,
   "metadata": {},
   "outputs": [
    {
     "ename": "SyntaxError",
     "evalue": "invalid syntax (<ipython-input-24-3939b4b36142>, line 1)",
     "output_type": "error",
     "traceback": [
      "\u001b[1;36m  File \u001b[1;32m\"<ipython-input-24-3939b4b36142>\"\u001b[1;36m, line \u001b[1;32m1\u001b[0m\n\u001b[1;33m    for in range(5):\u001b[0m\n\u001b[1;37m        ^\u001b[0m\n\u001b[1;31mSyntaxError\u001b[0m\u001b[1;31m:\u001b[0m invalid syntax\n"
     ]
    }
   ],
   "source": [
    "for in range(5):\n",
    "    driver.find_element_by_tag_name('body').send_keys)keys.END\n",
    "    time.sleep(1)"
   ]
  },
  {
   "cell_type": "markdown",
   "metadata": {},
   "source": [
    "10. Details of Datasets from UCI machine learning repositories.\n",
    " Url = https://archive.ics.uci.edu/\n",
    " You have to find the following details:\n",
    "A) Dataset name\n",
    "B) Data type\n",
    "C) Task\n",
    "D) Attribute type\n",
    "E) No of instances\n",
    "F) No of attribute\n",
    "G) Year\n",
    "Note: - from the home page you have to go to the Show All Dataset page through code."
   ]
  },
  {
   "cell_type": "code",
   "execution_count": 26,
   "metadata": {},
   "outputs": [],
   "source": [
    "from bs4 import BeautifulSoup as bs\n",
    "import requests\n",
    "\n",
    "url = 'https://archive.ics.uci.edu/ /.exception-handling-selenium.html'"
   ]
  },
  {
   "cell_type": "code",
   "execution_count": 27,
   "metadata": {},
   "outputs": [],
   "source": [
    "dump = requests.get(url)\n",
    "soup = bs(dump.content,'html')\n",
    "\n",
    "def heading():\n",
    "  head = soup.find_all('h2')\n",
    "  print(head[1].text)"
   ]
  },
  {
   "cell_type": "code",
   "execution_count": 28,
   "metadata": {},
   "outputs": [],
   "source": [
    "\n",
    "def contentlist():\n",
    "  #find the section where data lies\n",
    "  col = soup.find('table',{'class':'table table-striped'})\n",
    "  insidecol = col.find_all('tr')\n",
    "\n",
    "  for i in range(len(insidecol)):\n",
    "  \n",
    "    print(insidecol[i].text.replace(' ','  -->  ',1))"
   ]
  },
  {
   "cell_type": "code",
   "execution_count": 29,
   "metadata": {},
   "outputs": [],
   "source": [
    "dump = requests.get(url)\n",
    "soup = bs(dump.content,'html.parser')"
   ]
  },
  {
   "cell_type": "code",
   "execution_count": 32,
   "metadata": {},
   "outputs": [
    {
     "ename": "SyntaxError",
     "evalue": "invalid syntax (<ipython-input-32-e379341a7fb3>, line 2)",
     "output_type": "error",
     "traceback": [
      "\u001b[1;36m  File \u001b[1;32m\"<ipython-input-32-e379341a7fb3>\"\u001b[1;36m, line \u001b[1;32m2\u001b[0m\n\u001b[1;33m    tbodies = soup.find(lambda tag: tag.name=='table' and tag.has_attr('id') and tag['id']==\"table_id\")\u001b[0m\n\u001b[1;37m            ^\u001b[0m\n\u001b[1;31mSyntaxError\u001b[0m\u001b[1;31m:\u001b[0m invalid syntax\n"
     ]
    }
   ],
   "source": [
    "{\n",
    "tbodies = soup.find(lambda tag: tag.name=='table' and tag.has_attr('id') and tag['id']==\"table_id\")\n",
    "\n",
    "rows = tbodies.findAll(lambda tag: tag.name=='tr')\n",
    "\n",
    "for i in range(37):\n",
    "  try:\n",
    "    val = rows[i].text.split('\\n')\n",
    "    if i == 0 :\n",
    "        }"
   ]
  },
  {
   "cell_type": "code",
   "execution_count": 33,
   "metadata": {},
   "outputs": [
    {
     "name": "stdout",
     "output_type": "stream",
     "text": [
      "['20Uttarakhand', '-', '245,895', '1.30%', '37.351', '-', '193,273', '']\n"
     ]
    },
    {
     "data": {
      "text/plain": [
       "8"
      ]
     },
     "execution_count": 33,
     "metadata": {},
     "output_type": "execute_result"
    }
   ],
   "source": [
    "print(val)\n",
    "val[0]\n",
    "len(val)"
   ]
  }
 ],
 "metadata": {
  "kernelspec": {
   "display_name": "Python 3",
   "language": "python",
   "name": "python3"
  },
  "language_info": {
   "codemirror_mode": {
    "name": "ipython",
    "version": 3
   },
   "file_extension": ".py",
   "mimetype": "text/x-python",
   "name": "python",
   "nbconvert_exporter": "python",
   "pygments_lexer": "ipython3",
   "version": "3.8.5"
  }
 },
 "nbformat": 4,
 "nbformat_minor": 4
}
